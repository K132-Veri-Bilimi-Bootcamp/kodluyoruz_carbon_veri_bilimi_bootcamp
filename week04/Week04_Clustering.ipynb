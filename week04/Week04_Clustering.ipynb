{
 "cells": [
  {
   "cell_type": "markdown",
   "metadata": {},
   "source": [
    "# Kodluyoruz - Carbon Consulting Veri Bilimi Bootcamp'i 4. Hafta Notebook\n",
    "\n",
    "Bu notebook içerisinde dimensionality reduction tekniklerini ve bunlarin clustering algoritmalari ile kullanımını göreceğiz."
   ]
  },
  {
   "cell_type": "markdown",
   "metadata": {},
   "source": [
    "## Imports"
   ]
  },
  {
   "cell_type": "code",
   "execution_count": 1,
   "metadata": {},
   "outputs": [],
   "source": [
    "import numpy as np\n",
    "import matplotlib.pyplot as plt\n",
    "import pandas as pd\n",
    "import seaborn as sns\n",
    "import sklearn"
   ]
  },
  {
   "cell_type": "markdown",
   "metadata": {},
   "source": [
    "## Numpy\n",
    "\n",
    "Numpy kütüphanesi genel olarak matematiksel işlemleri hızlandırmak için kullanılıyor. Vektörler üzerine hızlı işlem yapmamızı sağlıyor diyebiliriz.\n",
    "\n",
    "Numpy ile şunları yapıyor olacağız:\n",
    "- Boş vektörler ve matrisler oluşturacağız. (0, 1 ve 5 ile dolu)\n",
    "- Oluşturduğumuz vektör ve matrislerin uzunluklarını/biçimlerini değiştireceğiz.\n",
    "- Oluşturduğumuz matrislerin belirli elemanlarına erişmeye çalışacağız.\n",
    "- Ortalama, standart sapma gibi değerleri hesaplayacağız.\n",
    "- Vektörlerin iç çarpımlarını (dot product) hesaplayacağız.\n",
    "- Bir vektörün içerisinden rastgele bir eleman seçeceğiz.\n",
    "- Rastgele bir veri grubu oluşturmaya çalışacağız."
   ]
  },
  {
   "cell_type": "code",
   "execution_count": null,
   "metadata": {},
   "outputs": [],
   "source": []
  },
  {
   "cell_type": "markdown",
   "metadata": {},
   "source": [
    "## Matplotlib\n",
    "\n",
    "Matplotlib kütüphanesi daha çok veri görselleştirme için kullanılıyor. \n",
    "\n",
    "Matplotlib ile şunları yapacağız:\n",
    "- Az önce oluşturmuş olduğumuz veri grubunu görselleştireceğiz.\n",
    "- Bar chart, scatter plot, line chart,... gibi farklı görselleştirme tiplerini inceleyeceğiz.\n",
    "- Lejant, ızgara yapıları, figür boyutları ve eksen etiketlerini bir ve birden fazla figür için değiştireceğiz."
   ]
  },
  {
   "cell_type": "code",
   "execution_count": null,
   "metadata": {},
   "outputs": [],
   "source": []
  },
  {
   "cell_type": "markdown",
   "metadata": {},
   "source": [
    "## Seaborn\n",
    "\n",
    "Seaborn kütüphanesi ise yine görselleştirme üzerine kullanılan bir kütüphane. Ayrıca, ekstra olarak içerisinde hazır kullanabileceğimiz bir kaç veri seti de mevcut. Bu yüzden, artık oluşturduğumuz rastgele veri grubu ile değil, hazır verilerle çalışmaya devam edelim.\n",
    "\n",
    "Seaborn ile şunları yapacağız:\n",
    "- Yeni bir veri seti indireceğiz ve kullanmaya başlayacağız.\n",
    "- Bu veri setini görselleştireceğiz. (Sürpriz, veri analizine giriş!)\n",
    "- Oluşturduğumuz görseller üzerinden veri seti hakkında yorum yapmaya çalışacağız. (Daha önce hiç tanımadığımız bir veriyi anlamladırmaya çalışacağız.)"
   ]
  },
  {
   "cell_type": "code",
   "execution_count": null,
   "metadata": {},
   "outputs": [],
   "source": []
  },
  {
   "cell_type": "markdown",
   "metadata": {},
   "source": [
    "## Pandas\n",
    "\n",
    "Pandas kütüphanesini ise elimizdeki veri üzerine daha kolay işlemler yapmak için kullanıyoruz. Sütunlara ya da belirlemiş olduğumuz koşullara göre elimizdeki objeyi güncelleyebiliyor, gruplayabiliyor ve farklı işlemler yapabiliyoruz. Aynı zamanda elimizdeki veri setini hızlıca anlamlandırmak/incelemek için de kullanıyoruz.\n",
    "\n",
    "Pandas ile şunları yapacağız:\n",
    "- Bir Pandas objesi oluşturacağız. (DataFrame)\n",
    "- Excel, CSV, JSON gibi yapılardan veri okuyacağız.\n",
    "- Kütüphanenin özelliklerini kullanarak veri seti inceleyeceğiz.\n",
    "- Veri setini gruplayacağız.\n",
    "- Veri seti üzerinde belirlediğimiz koşullara göre değişiklikler yapacağız."
   ]
  },
  {
   "cell_type": "code",
   "execution_count": null,
   "metadata": {},
   "outputs": [],
   "source": []
  },
  {
   "cell_type": "markdown",
   "metadata": {},
   "source": [
    "## Sklearn\n",
    "\n",
    "Sklearn kütüphanesi ise daha çok istatistiksel tabanlı yapay zeka yöntemleri veya yine istatistik tabanlı değerlendirme çeşitleri (raporlama gibi) için kullandığımız bir kütüphane. Veri üzerinde değişiklikler, parçalama, makine öğrenimi modelleri eğitimi gibi çeşitli amaçlar için kullanıyoruz.\n",
    "\n",
    "Sklearn ile şunları yapacağız:\n",
    "- Önceden oluşturduğumuz bir veri setini normalize edeceğiz.\n",
    "- Bu veri setini eğitim, test ve doğrulama veri setlerine ayıracağız.\n",
    "- Çok basit bir model eğitip raporlamasını yapacağız."
   ]
  },
  {
   "cell_type": "code",
   "execution_count": null,
   "metadata": {},
   "outputs": [],
   "source": []
  },
  {
   "cell_type": "markdown",
   "metadata": {},
   "source": [
    "## Ödev\n",
    "\n",
    "Bu hafta ödev olarak ise sizden bir \"Veri Seti Okuma/Oluşturma Class'ı\" yazmanızı istiyoruz. Bunu yaparken hem Python bilgilerinizi pekiştirmenizi hem de bu hafta işlediklerimizi kullanmanızı bekliyor olacağız. \n",
    "\n",
    "Yapmanız gerekenler:\n",
    "- \"DataOperations\" adlı bir class oluşturmanız.\n",
    "- Bu class'ta şunların olmasını bekliyoruz:\n",
    "  - Eğer class oluşturulurken bir numpy array'i verilirse bunu pandas dataframe'ine çevirerek kaydetmesi,\n",
    "  - Eğer bir path verilirse, ve bu path'de csv ya da json dosyası varsa bunu veriyi bir pandas dataframe'ine kaydetmesi,\n",
    "  - Eğer direk olarak pandas dataframe'i verilirse de herhangi bir değişiklik yapmadan kaydetmesi,\n",
    "  - Eğer herhangi bir değer verilmeden class oluşturulursa, rastgele bir veri seti oluşturmanız gerekmekte.\n",
    "  - Class oluşturulduktan sonra ise bu veri üzerine analiz çıkartabilecek fonksiyonlar yazmanızı bekliyoruz:\n",
    "    - Her sütundaki veri sayısı ve tipi, eğer sayısal veriler varsa standart sapma, ortalama gibi istatistiksel değerlerini veren bir fonksiyon,\n",
    "    - Sayısal veriler içeren sütunların görselleştirilmesi.\n",
    "- Tüm fonksiyonlara ve ana class içeriğine `Docstring`lerini yazmaya, isimlendirmeleri Python kurallarına göre yapmaya dikkat etmeye çalışın lütfen."
   ]
  },
  {
   "cell_type": "code",
   "execution_count": null,
   "metadata": {},
   "outputs": [],
   "source": []
  }
 ],
 "metadata": {
  "interpreter": {
   "hash": "6ef6f3a4f625ea7d4d8495a7f4d4d661f211e7f08ba569372855b8b98ee0b7f4"
  },
  "kernelspec": {
   "display_name": "Python 3.9.7 64-bit ('trial_env': conda)",
   "language": "python",
   "name": "python3"
  },
  "language_info": {
   "codemirror_mode": {
    "name": "ipython",
    "version": 3
   },
   "file_extension": ".py",
   "mimetype": "text/x-python",
   "name": "python",
   "nbconvert_exporter": "python",
   "pygments_lexer": "ipython3",
   "version": "3.9.7"
  },
  "orig_nbformat": 4
 },
 "nbformat": 4,
 "nbformat_minor": 2
}